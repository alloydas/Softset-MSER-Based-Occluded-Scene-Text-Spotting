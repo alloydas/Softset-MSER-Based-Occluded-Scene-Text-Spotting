{
  "cells": [
    {
      "cell_type": "code",
      "execution_count": null,
      "metadata": {
        "id": "EGAFvFWusiQO"
      },
      "outputs": [],
      "source": [
        "from PIL import Image\n",
        "from numpy import asarray\n",
        "import numpy as np\n",
        "import matplotlib.pyplot as plt\n",
        "import argparse\n",
        "import pandas as pd\n",
        "from numba import jit, cuda\n",
        "import cv2\n",
        "from google.colab.patches import cv2_imshow"
      ]
    },
    {
      "cell_type": "code",
      "execution_count": null,
      "metadata": {
        "id": "Oy47V7pEslUW"
      },
      "outputs": [],
      "source": [
        "#img1 = cv2.imread(\"/content/1.jpeg\")\n",
        "#img1= cv2.resize(img1, (1152, 576))\n",
        "#img = cv2.detailEnhance(img1, sigma_s=200, sigma_r=0.15)\n",
        "#img2 = cv2.edgePreservingFilter(img, flags=2, sigma_s=200, sigma_r=0.20)\n",
        "#Convert the input imge into grayscale image\n",
        "#img = cv2.cvtColor(img1, cv2.COLOR_BGR2GRAY)\n",
        "#img = cv2.medianBlur(img,5)\n",
        "#d = img.shape\n",
        "#Component list\n",
        "inv_component=[]\n",
        "norm_component=[]\n",
        "#print(d)"
      ]
    },
    {
      "cell_type": "code",
      "execution_count": null,
      "metadata": {
        "id": "2dF73ZKrst5d"
      },
      "outputs": [],
      "source": [
        "def Find_area(key,j):\n",
        "  #ret, thresh = cv2.threshold(img, j, 255, cv2.THRESH_BINARY_INV)\n",
        "  thresh2 = cv2.adaptiveThreshold(img, 255, cv2.ADAPTIVE_THRESH_GAUSSIAN_C,cv2.THRESH_BINARY_INV, j, 5)\n",
        "  connectivity = 8\n",
        "\n",
        "  output = cv2.connectedComponentsWithStats(thresh2, connectivity, cv2.CV_32S)\n",
        "  (numLabels, labels, stats, centroids) = output\n",
        "  area = stats[key, cv2.CC_STAT_AREA]\n",
        "  return area"
      ]
    },
    {
      "cell_type": "code",
      "execution_count": null,
      "metadata": {
        "id": "VTmhftPNs2sG"
      },
      "outputs": [],
      "source": [
        "def countX(lst, x):\n",
        "    count = 0\n",
        "    for ele in lst:\n",
        "        if (ele == x):\n",
        "            count = count + 1\n",
        "    return count"
      ]
    },
    {
      "cell_type": "code",
      "execution_count": null,
      "metadata": {
        "id": "lshdjFcfs5EX"
      },
      "outputs": [],
      "source": [
        "centa={}\n",
        "#Compute Difference between two soft set.\n",
        "def difference(Soft1,Soft2,t1,t2):\n",
        "    p={}\n",
        "    x=[v for k,v in Soft1.items()]\n",
        "    y=[v for k,v in Soft2.items()]\n",
        "    key1=[]\n",
        "    key2=[]\n",
        "    for k,v in Soft1.items():\n",
        "\n",
        "            sp1=k.split(\"=\")[1]\n",
        "            tp1=sp1.split(\",\")\n",
        "            Cx=tp1[0]\n",
        "            Cy=tp1[1]\n",
        "\n",
        "            key1.append((Cx,Cy))\n",
        "\n",
        "    for k,v in Soft2.items():\n",
        "\n",
        "            sp2=k.split(\"=\")[1]\n",
        "            tp2=sp2.split(\",\")\n",
        "            Cx=tp2[0]\n",
        "            Cy=tp2[1]\n",
        "\n",
        "            key2.append((Cx,Cy))\n",
        "\n",
        "    if(len(x)>len(y)):\n",
        "          for dp in key1:\n",
        "              if dp not in key2:\n",
        "                    key1.remove(dp)\n",
        "    elif(len(x)<len(y)):\n",
        "          for dp in key2:\n",
        "              if dp not in key1:\n",
        "                    key2.remove(dp)\n",
        "\n",
        "    x_e=[]\n",
        "    y_e=[]\n",
        "    for k,v in Soft1.items():\n",
        "\n",
        "            sp1=k.split(\"=\")[1]\n",
        "            tp1=sp1.split(\",\")\n",
        "            Cx=tp1[0]\n",
        "            Cy=tp1[1]\n",
        "            if (Cx,Cy) in key1:\n",
        "                x_e.append(((Cx,Cy),int(v)))\n",
        "    for k,v in Soft2.items():\n",
        "\n",
        "            sp1=k.split(\"=\")[1]\n",
        "            tp1=sp1.split(\",\")\n",
        "            Cx=tp1[0]\n",
        "            Cy=tp1[1]\n",
        "            if (Cx,Cy) in key2:\n",
        "                y_e.append(((Cx,Cy),int(v)))\n",
        "\n",
        "    Y_e={}\n",
        "    for k in range(len(y_e)):\n",
        "        cent=y_e[k][0]\n",
        "        val=y_e[k][1]\n",
        "        Y_e[cent]=val\n",
        "    prev=set(x_e)\n",
        "    curr=set(y_e)\n",
        "\n",
        "\n",
        "\n",
        "    s=str(t1)+\"-\"+str(t2)\n",
        "    s_c=[]\n",
        "    for i in range(len(x_e)):\n",
        "         q_x=x_e[i][0]\n",
        "\n",
        "         size_q_x=x_e[i][1]\n",
        "         if q_x in Y_e.keys():\n",
        "              d=size_q_x - Y_e[q_x]\n",
        "              print(s,d)\n",
        "              s_c.append((q_x,d))\n",
        "\n",
        "\n",
        "\n",
        "    centa[s]=s_c"
      ]
    },
    {
      "cell_type": "code",
      "execution_count": null,
      "metadata": {
        "id": "bMaNhj7Ks9fp"
      },
      "outputs": [],
      "source": [
        "def Info_mat(img):\n",
        "    data={}\n",
        "\n",
        "    for j in range(41,100,2):\n",
        "        label_set={}\n",
        "\n",
        "        thresh2 = cv2.adaptiveThreshold(img, 255, cv2.ADAPTIVE_THRESH_GAUSSIAN_C,cv2.THRESH_BINARY_INV, j, 5)\n",
        "        #ret, thresh = cv2.threshold(img, j, 255, cv2.THRESH_BINARY_INV)\n",
        "        print(\"For t=\", j)\n",
        "        thresh = (thresh2 > 0).astype(np.uint8)\n",
        "        connectivity = 8\n",
        "        output = cv2.connectedComponentsWithStats(thresh2, connectivity, cv2.CV_32S)\n",
        "        (numLabels, labels, stats, centroids) = output\n",
        "\n",
        "        for i in range(0,numLabels):\n",
        "          area = stats[i, cv2.CC_STAT_AREA]\n",
        "          (cX, cY) = centroids[i]\n",
        "          #print(\"size--->\",out)\n",
        "          st=str(i)+\"=\"+str(int(cX))+\",\"+str(int(cY))\n",
        "          label_set[st]=Find_area(i,j)\n",
        "        data[j]=label_set\n",
        "    return data"
      ]
    },
    {
      "cell_type": "code",
      "execution_count": null,
      "metadata": {
        "id": "EZNFQiefteIa"
      },
      "outputs": [],
      "source": [
        "data=Info_mat(img)"
      ]
    },
    {
      "cell_type": "code",
      "execution_count": null,
      "metadata": {
        "id": "Sq67N4DmtiV-"
      },
      "outputs": [],
      "source": [
        "keys_set=[k for k in data.keys()]\n",
        "set1=[]\n",
        "for i in range(len(keys_set)-1):\n",
        "    t1=keys_set[i]\n",
        "    t2=keys_set[i+1]\n",
        "    difference(data[t1],data[t2],t1,t2)\n"
      ]
    },
    {
      "cell_type": "code",
      "execution_count": null,
      "metadata": {
        "id": "jBDN_JGGt4Wb"
      },
      "outputs": [],
      "source": [
        "def Count_zero(l):\n",
        "    count=0\n",
        "    for i in range(len(l)):\n",
        "        k=l[i]\n",
        "        if(k[1]==0):\n",
        "            count=count+1\n",
        "    return count\n",
        "\n"
      ]
    },
    {
      "cell_type": "code",
      "execution_count": null,
      "metadata": {
        "id": "IeomMWZwt62F"
      },
      "outputs": [],
      "source": [
        "zero_count={}\n",
        "len_count={}\n",
        "for k,v in centa.items():\n",
        "    c=Count_zero(v)\n",
        "    sp=len(v)\n",
        "    len_count[k]=sp\n",
        "    zero_count[k]=c\n"
      ]
    },
    {
      "cell_type": "code",
      "execution_count": null,
      "metadata": {
        "id": "fUQCjuzlt83N"
      },
      "outputs": [],
      "source": [
        "def Component_marking(th):\n",
        "    thresh2 = cv2.adaptiveThreshold(img, 255, cv2.ADAPTIVE_THRESH_GAUSSIAN_C,cv2.THRESH_BINARY, th, 5)\n",
        "    #ret, thresh=cv2.threshold(img,th,255,cv2.THRESH_BINARY)\n",
        "    thresh = (thresh2 > 0).astype(np.uint8)\n",
        "    connectivity=8\n",
        "    output = cv2.connectedComponentsWithStats(thresh2, connectivity, cv2.CV_32S)\n",
        "    (numLabels, labels, stats, centroids) = output\n",
        "\n",
        "    output = img1.copy()\n",
        "    k=255\n",
        "    for i in range(1, numLabels):\n",
        "        x = stats[i, cv2.CC_STAT_LEFT]\n",
        "        y = stats[i, cv2.CC_STAT_TOP]\n",
        "        w = stats[i, cv2.CC_STAT_WIDTH]\n",
        "        h = stats[i, cv2.CC_STAT_HEIGHT]\n",
        "        area = stats[i, cv2.CC_STAT_AREA]\n",
        "\n",
        "        (cX, cY) = centroids[i]\n",
        "\n",
        "        if(area > 20 ):\n",
        "             (cX, cY) = centroids[i]\n",
        "             norm_component.append(((cX,cY),area))\n",
        "             cv2.rectangle(output, (x, y), (x + w, y + h), (0, 255, 0), 2)\n",
        "             #cv2.circle(output, (int(cX), int(cY)), 4, (s, 0, k), -1)\n",
        "             componentMask = (labels == i).astype(\"uint8\") * 255\n",
        "             # show our output image and connected component mask\n",
        "             #cv2_imshow(output)\n",
        "             #print(componentMask)\n",
        "             #cv2.imshow(\"Connected Component\", componentMask)\n",
        "             output=output.copy()\n",
        "             k=k-50\n",
        "             cv2.waitKey(0)\n",
        "    return output\n",
        "    if cv2.waitKey(0) & 0xff == 27:\n",
        "        cv2.destroyAllWindows()"
      ]
    },
    {
      "cell_type": "code",
      "execution_count": null,
      "metadata": {
        "id": "AerFWIpSuJya"
      },
      "outputs": [],
      "source": [
        "def Component_marking_inv(th):\n",
        "    I=Component_marking(th)\n",
        "    thresh2 = cv2.adaptiveThreshold(img, 255, cv2.ADAPTIVE_THRESH_GAUSSIAN_C,cv2.THRESH_BINARY_INV, th, 5)\n",
        "    #ret,thresh=cv2.threshold(img,th,255,cv2.THRESH_BINARY_INV)\n",
        "    thresh = (thresh2 > 0).astype(np.uint8)\n",
        "    connectivity=8\n",
        "    output = cv2.connectedComponentsWithStats(thresh2, connectivity, cv2.CV_32S)\n",
        "    (numLabels, labels, stats, centroids) = output\n",
        "\n",
        "    output = I.copy()\n",
        "    k=255\n",
        "    for i in range(1, numLabels):\n",
        "        x = stats[i, cv2.CC_STAT_LEFT]\n",
        "        y = stats[i, cv2.CC_STAT_TOP]\n",
        "        w = stats[i, cv2.CC_STAT_WIDTH]\n",
        "        h = stats[i, cv2.CC_STAT_HEIGHT]\n",
        "        area = stats[i, cv2.CC_STAT_AREA]\n",
        "        (cX, cY) = centroids[i]\n",
        "        if(area >20  ):\n",
        "\n",
        "             inv_component.append(((cX,cY),area))\n",
        "             cv2.rectangle(output, (x, y), (x + w, y + h), (0, 255, 0), 2)\n",
        "             #cv2.circle(output, (int(cX), int(cY)), 4, (s, 0, k), -1)\n",
        "             componentMask = (labels == i).astype(\"uint8\") * 255\n",
        "             # show our output image and connected component mask\n",
        "             #cv2_imshow(output)\n",
        "             #print(componentMask)\n",
        "             #cv2.imshow(\"Connected Component\", componentMask)\n",
        "             output=output.copy()\n",
        "             k=k-50\n",
        "\n",
        "    cv2_imshow(output)\n",
        "    return (output)"
      ]
    },
    {
      "cell_type": "code",
      "execution_count": null,
      "metadata": {
        "id": "gxg3oW5IubK6"
      },
      "outputs": [],
      "source": [
        "all_values = zero_count. values()\n",
        "max_value = int(sum(all_values) / len(all_values))\n",
        "component=len_count.values()\n",
        "avg=int(sum(component)/len(component))"
      ]
    },
    {
      "cell_type": "code",
      "execution_count": null,
      "metadata": {
        "id": "1GLPIKfgF-Af"
      },
      "outputs": [],
      "source": [
        "for k,v in zero_count.items():\n",
        "      st=k.split(\"-\")\n",
        "      if(v<=max_value+4 and v>=max_value-4):\n",
        "\n",
        "            print(\"Threshold---->\",st[0])\n",
        "            Component_marking_inv(int(st[0]))\n",
        "            break\n",
        "threshold = st[0]"
      ]
    },
    {
      "cell_type": "code",
      "execution_count": null,
      "metadata": {
        "id": "qqBsvIM3ubvm"
      },
      "outputs": [],
      "source": [
        "for k,v in zero_count.items():\n",
        "      st=k.split(\"-\")\n",
        "      if(v<=max_value+4 and v>=max_value-4):\n",
        "\n",
        "            print(\"Threshold---->\",st[0])\n",
        "            Component_marking_inv(int(st[0]))\n",
        "            break\n",
        "threshold = st[0]"
      ]
    },
    {
      "cell_type": "code",
      "execution_count": null,
      "metadata": {
        "id": "ETw30iXAJAVL"
      },
      "outputs": [],
      "source": [
        "def softset(img):\n",
        "    data=Info_mat(img)\n",
        "    keys_set=[k for k in data.keys()]\n",
        "    set1=[]\n",
        "    for i in range(len(keys_set)-1):\n",
        "        t1=keys_set[i]\n",
        "        t2=keys_set[i+1]\n",
        "        difference(data[t1],data[t2],t1,t2)\n",
        "    zero_count={}\n",
        "    len_count={}\n",
        "    for k,v in centa.items():\n",
        "        c=Count_zero(v)\n",
        "        sp=len(v)\n",
        "        len_count[k]=sp\n",
        "        zero_count[k]=c\n",
        "    print(zero_count)\n",
        "    all_values = zero_count. values()\n",
        "    max_value = int(sum(all_values) / len(all_values))\n",
        "    component=len_count.values()\n",
        "    avg=int(sum(component)/len(component))\n",
        "    for k,v in zero_count.items():\n",
        "        st=k.split(\"-\")\n",
        "        if(v<=max_value+4 and v>=max_value-4):\n",
        "            print(\"Threshold---->\",st[0])\n",
        "            output = Component_marking_inv(int(st[0]))\n",
        "            break\n",
        "            cv2.imwrite(\"/content/2.jpg\",output)\n",
        "    threshold = st[0]"
      ]
    },
    {
      "cell_type": "code",
      "execution_count": null,
      "metadata": {
        "id": "huibnTzPsDJJ"
      },
      "outputs": [],
      "source": [
        "img1 = cv2.imread(\"/content/2.jpg\")\n",
        "\n",
        "img = cv2.cvtColor(img1, cv2.COLOR_BGR2GRAY)\n",
        "\n",
        "softset(img)"
      ]
    },
    {
      "cell_type": "code",
      "execution_count": null,
      "metadata": {
        "id": "UKfgpDS54qkw"
      },
      "outputs": [],
      "source": [
        "mser = cv2.MSER_create()\n",
        "vis = img1.copy()\n",
        "\n",
        "#detect regions in gray scale image\n",
        "regions, _ = mser.detectRegions(img)\n",
        "\n",
        "hulls = [cv2.convexHull(p.reshape(-1, 1, 2)) for p in regions]\n",
        "\n",
        "cv2.polylines(vis, hulls, 1, (0, 255, 0), 2)\n",
        "\n",
        "cv2_imshow(vis)\n",
        "\n",
        "\n"
      ]
    },
    {
      "cell_type": "code",
      "execution_count": null,
      "metadata": {
        "id": "f1wXPDDhF5BL"
      },
      "outputs": [],
      "source": [
        "output = regions\n",
        "(numLabels, labels, stats, centroids) = output\n",
        "\n",
        "output = img1.copy()\n",
        "k=255\n",
        "for i in range(1, numLabels):\n",
        "    x = stats[i, cv2.CC_STAT_LEFT]\n",
        "    y = stats[i, cv2.CC_STAT_TOP]\n",
        "    w = stats[i, cv2.CC_STAT_WIDTH]\n",
        "    h = stats[i, cv2.CC_STAT_HEIGHT]\n",
        "    area = stats[i, cv2.CC_STAT_AREA]\n",
        "    (cX, cY) = centroids[i]\n",
        "    if(area >20  ):\n",
        "\n",
        "        inv_component.append(((cX,cY),area))\n",
        "        cv2.rectangle(output, (x, y), (x + w, y + h), (0, 255, 0), 2)\n",
        "             #cv2.circle(output, (int(cX), int(cY)), 4, (s, 0, k), -1)\n",
        "        componentMask = (labels == i).astype(\"uint8\") * 255\n",
        "             # show our output image and connected component mask\n",
        "             #cv2_imshow(output)\n",
        "             #print(componentMask)\n",
        "             #cv2.imshow(\"Connected Component\", componentMask)\n",
        "        output=output.copy()\n",
        "        k=k-50\n",
        "\n",
        "cv2_imshow(output)"
      ]
    }
  ],
  "metadata": {
    "colab": {
      "provenance": []
    },
    "kernelspec": {
      "display_name": "Python 3",
      "name": "python3"
    },
    "language_info": {
      "name": "python"
    }
  },
  "nbformat": 4,
  "nbformat_minor": 0
}